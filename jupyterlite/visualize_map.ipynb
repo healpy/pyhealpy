{
  "metadata": {
    "kernelspec": {
      "name": "python",
      "display_name": "Python (Pyodide)",
      "language": "python"
    },
    "language_info": {
      "codemirror_mode": {
        "name": "python",
        "version": 3
      },
      "file_extension": ".py",
      "mimetype": "text/x-python",
      "name": "python",
      "nbconvert_exporter": "python",
      "pygments_lexer": "ipython3",
      "version": "3.8"
    }
  },
  "nbformat_minor": 4,
  "nbformat": 4,
  "cells": [
    {
      "cell_type": "markdown",
      "source": "# Visualize data in the browser with JupyterLite\n\n## Temporary fix to install healpy\n\nWill should be able to bundle this with JupyterLite",
      "metadata": {}
    },
    {
      "cell_type": "code",
      "source": "%pip install matplotlib https://healpy.github.io/pyhealpy/dist/healpy-0.1.0-py3-none-any.whl",
      "metadata": {
        "trusted": true
      },
      "outputs": [],
      "execution_count": null
    },
    {
      "cell_type": "code",
      "source": "import healpy as hp",
      "metadata": {
        "trusted": true
      },
      "outputs": [],
      "execution_count": null
    },
    {
      "cell_type": "markdown",
      "source": "# Map loaded in the environment",
      "metadata": {}
    },
    {
      "cell_type": "code",
      "source": "from glob import glob\nmap_filename = glob(\"*.fits\")[0]",
      "metadata": {
        "trusted": true
      },
      "outputs": [],
      "execution_count": null
    },
    {
      "cell_type": "code",
      "source": "print(map_filename)",
      "metadata": {
        "trusted": true
      },
      "outputs": [],
      "execution_count": null
    },
    {
      "cell_type": "code",
      "source": "m = hp.read_map(map_filename)",
      "metadata": {
        "trusted": true
      },
      "outputs": [],
      "execution_count": null
    },
    {
      "cell_type": "markdown",
      "source": "## Mollview projection\n\n",
      "metadata": {}
    },
    {
      "cell_type": "code",
      "source": "hp.projview(m, coord=[\"G\"], projection_type=\"mollweide\");",
      "metadata": {
        "trusted": true
      },
      "outputs": [],
      "execution_count": null
    }
  ]
}